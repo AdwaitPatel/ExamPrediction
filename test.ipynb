{
 "cells": [
  {
   "cell_type": "code",
   "execution_count": 2,
   "id": "e874c65b",
   "metadata": {},
   "outputs": [
    {
     "name": "stdout",
     "output_type": "stream",
     "text": [
      "\n",
      "--- Page 1 ---\n",
      "(C5: Meurse Name: B.Tech. of\n",
      "\n",
      "Course Outcome: a) eo ae 5G\n",
      "aa ee iacmeding. fndamental concepts of chemistry and its applications ia he various Sipnces. 5 | il 4\n",
      "\n",
      "Mid Term Examination, Odd Semester 2022-23\n",
      "B.Tech. Year-I\", Semester-I\"\n",
      "Subject Code: (BCHS-0101)\n",
      "Subject Name: Engineering Chemistry\n",
      "\n",
      "Time: 2 Hours Maximum Marks: 30\n",
      "\n",
      "1. All questions are compulsory to attend.\n",
      "1. All questions of ecad the question paper carefully and write relevant answers accord}\n",
      "\n",
      "3. Appropriate diagrams (if any) in support of the answer is desirable.\n",
      "Section —A\n",
      "3X 5=15 Marks\n",
      "\n",
      "the energy diagram with their stability order.\n",
      "\n",
      "stereoisomer with\n",
      "\n",
      "following polymers (Any Two)\n",
      "(i) Buna-S (ii) PHB (iii) Nylon66\n",
      "\n",
      "The magnetic behavior of any chemical molecule depends\n",
      "upon the number of electrons present in its last orbit\n",
      "concept, create & molecular orbital\n",
      "\n",
      "Analyze the Lubricants for its following properties.\n",
      "(i) Flash Point and Fire point (ii) SEN (iii) Specific Heat\n",
      "\n",
      "Draw the schematic labelled diagram to show synthesis of\n",
      "synthetic petrol by Fischer-Tropsch method.\n",
      "\n",
      "Ee\n",
      "\n"
     ]
    }
   ],
   "source": [
    "import pytesseract\n",
    "from pdf2image import convert_from_path\n",
    "from PIL import Image\n",
    "import os\n",
    "\n",
    "def extract_text_from_scanned_pdf(pdf_path, tesseract_cmd=None):\n",
    "    \"\"\"Extract text from a scanned PDF using Tesseract OCR.\"\"\"\n",
    "    if tesseract_cmd:\n",
    "        pytesseract.pytesseract.tesseract_cmd = tesseract_cmd\n",
    "    # Convert PDF to images\n",
    "    images = convert_from_path(pdf_path)\n",
    "    text = \"\"\n",
    "    for i, image in enumerate(images):\n",
    "        page_text = pytesseract.image_to_string(image)\n",
    "        text += f\"\\n--- Page {i+1} ---\\n{page_text}\"\n",
    "    return text\n",
    "\n",
    "pdf_file = 'data/first_year/chemistry/Mid_Sem/22-23 chem1.pdf'\n",
    "# If tesseract is not in PATH, specify its location, e.g. '/usr/local/bin/tesseract'\n",
    "tesseract_path = \"/opt/homebrew/bin/tesseract\"\n",
    "\n",
    "extracted_text = extract_text_from_scanned_pdf(pdf_file, tesseract_cmd=tesseract_path)\n",
    "print(extracted_text)"
   ]
  }
 ],
 "metadata": {
  "kernelspec": {
   "display_name": ".venv",
   "language": "python",
   "name": "python3"
  },
  "language_info": {
   "codemirror_mode": {
    "name": "ipython",
    "version": 3
   },
   "file_extension": ".py",
   "mimetype": "text/x-python",
   "name": "python",
   "nbconvert_exporter": "python",
   "pygments_lexer": "ipython3",
   "version": "3.13.2"
  }
 },
 "nbformat": 4,
 "nbformat_minor": 5
}
