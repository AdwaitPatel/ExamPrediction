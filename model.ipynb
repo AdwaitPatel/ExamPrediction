{
 "cells": [
  {
   "cell_type": "markdown",
   "id": "b9dd86c0",
   "metadata": {},
   "source": [
    "To use pytesseract :  \n",
    "1. It works only on images so convert all pdf to images using `pdf2image`.\n",
    "2. `Pytesseract` is just a wrapper it need tesseract to be installed on your system by ```brew install tesseract``` for mac.\n",
    "3. "
   ]
  },
  {
   "cell_type": "code",
   "execution_count": null,
   "id": "9ecee175",
   "metadata": {},
   "outputs": [
    {
     "name": "stderr",
     "output_type": "stream",
     "text": [
      "Processing PDFs: 100%|██████████| 121/121 [11:24<00:00,  5.66s/it]"
     ]
    },
    {
     "name": "stdout",
     "output_type": "stream",
     "text": [
      "Extraction complete. 597 questions written to questions_extracted.csv\n"
     ]
    },
    {
     "name": "stderr",
     "output_type": "stream",
     "text": [
      "\n"
     ]
    }
   ],
   "source": [
    "import pytesseract\n",
    "from pdf2image import convert_from_path\n",
    "from PIL import Image\n",
    "import os\n",
    "import csv\n",
    "import glob\n",
    "import re\n",
    "from pathlib import Path\n",
    "from tqdm import tqdm\n",
    "\n",
    "def extract_text_from_scanned_pdf(pdf_path, tesseract_cmd=None):\n",
    "    \"\"\"Extract text from a scanned PDF using Tesseract OCR.\"\"\"\n",
    "    if tesseract_cmd:\n",
    "        pytesseract.pytesseract.tesseract_cmd = tesseract_cmd\n",
    "    # Convert PDF to images\n",
    "    images = convert_from_path(pdf_path)\n",
    "    text = \"\"\n",
    "    for i, image in enumerate(images):\n",
    "        page_text = pytesseract.image_to_string(image)\n",
    "        text += f\"\\n--- Page {i+1} ---\\n{page_text}\"\n",
    "    return text\n",
    "\n",
    "pdf_file = 'data/first_year/chemistry/Mid_Sem/13-14 chem3.pdf'\n",
    "# If tesseract is not in PATH, specify its location, e.g. '/usr/local/bin/tesseract'\n",
    "tesseract_path = \"/opt/homebrew/bin/tesseract\"\n",
    "\n",
    "# extracted_text = extract_text_from_scanned_pdf(pdf_file, tesseract_cmd=tesseract_path)\n",
    "# print(extracted_text)\n",
    "\n",
    "# Helper to extract year from filename or folder\n",
    "def extract_academic_year(name):\n",
    "    match = re.search(r'(\\d{2,4}-\\d{2,4})', name)\n",
    "    return match.group(1) if match else ''\n",
    "\n",
    "# Helper to extract type of examination from path\n",
    "def extract_exam_type(path):\n",
    "    if 'Mid' in path or 'mid' in path:\n",
    "        return 'Mid Term'\n",
    "    elif 'End' in path or 'end' in path:\n",
    "        return 'End Term'\n",
    "    return ''\n",
    "\n",
    "# Helper to extract course and year from path\n",
    "def extract_course_and_year(path):\n",
    "    parts = path.split(os.sep)\n",
    "    course = ''\n",
    "    year = ''\n",
    "    for part in parts:\n",
    "        if 'btech' in part.lower():\n",
    "            course = 'B.Tech'\n",
    "        elif 'bsc' in part.lower():\n",
    "            course = 'B.Sc'\n",
    "        if 'first_year' in part.lower():\n",
    "            year = '1st'\n",
    "        elif 'second_year' in part.lower():\n",
    "            year = '2nd'\n",
    "        elif 'third_year' in part.lower():\n",
    "            year = '3rd'\n",
    "        elif 'fourth_year' in part.lower():\n",
    "            year = '4th'\n",
    "    return course, year\n",
    "\n",
    "# Helper to extract subject from path\n",
    "def extract_subject(path):\n",
    "    parts = path.split(os.sep)\n",
    "    for part in parts:\n",
    "        if part.lower() in ['math', 'chemistry', 'physics'] or 'math' in part.lower() or 'chem' in part.lower() or 'phys' in part.lower():\n",
    "            return part\n",
    "    return ''\n",
    "\n",
    "# Prepare CSV columns\n",
    "csv_columns = [\n",
    "    'unique_id', 'academic_year', 'exam_type', 'course', 'year', 'subject', 'topic', 'subtopic', 'question'\n",
    " ]\n",
    "\n",
    "data_dir = 'data'\n",
    "pdf_files = glob.glob(f'{data_dir}/**/*.pdf', recursive=True)\n",
    "\n",
    "output_rows = []\n",
    "unique_id = 1\n",
    "\n",
    "for pdf_path in tqdm(pdf_files, desc='Processing PDFs'):\n",
    "    # Extract info from path\n",
    "    academic_year = extract_academic_year(pdf_path)\n",
    "    exam_type = extract_exam_type(pdf_path)\n",
    "    course, year = extract_course_and_year(pdf_path)\n",
    "    subject = extract_subject(pdf_path)\n",
    "    topic = ''  # To be filled later\n",
    "    subtopic = ''  # To be filled later\n",
    "\n",
    "    # Extract text from PDF (using your function)\n",
    "    try:\n",
    "        text = extract_text_from_scanned_pdf(pdf_path, tesseract_cmd=tesseract_path)\n",
    "    except Exception as e:\n",
    "        print(f'Error processing {pdf_path}: {e}')\n",
    "        continue\n",
    "\n",
    "    # Split text into questions (naive split by '?', can be improved)\n",
    "    questions = [q.strip()+'?' for q in text.split('?') if q.strip()]\n",
    "\n",
    "    for question in questions:\n",
    "        output_rows.append([unique_id, academic_year, exam_type, course, year, subject, topic, subtopic, question])\n",
    "        unique_id += 1\n",
    "\n",
    "# Write to CSV\n",
    "with open('questions_extracted.csv', 'w', newline='', encoding='utf-8') as csvfile:\n",
    "    writer = csv.writer(csvfile)\n",
    "    writer.writerow(csv_columns)\n",
    "    writer.writerows(output_rows)\n",
    "print(f'Extraction complete. {len(output_rows)} questions written to questions_extracted.csv')"
   ]
  }
 ],
 "metadata": {
  "kernelspec": {
   "display_name": ".venv",
   "language": "python",
   "name": "python3"
  },
  "language_info": {
   "codemirror_mode": {
    "name": "ipython",
    "version": 3
   },
   "file_extension": ".py",
   "mimetype": "text/x-python",
   "name": "python",
   "nbconvert_exporter": "python",
   "pygments_lexer": "ipython3",
   "version": "3.13.2"
  }
 },
 "nbformat": 4,
 "nbformat_minor": 5
}
